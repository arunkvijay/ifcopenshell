{
 "cells": [
  {
   "cell_type": "markdown",
   "id": "2ebf1937-a2cc-43cf-a07c-d5dbe5bae778",
   "metadata": {},
   "source": [
    "# IfcOpenShell Jupyternotebook"
   ]
  },
  {
   "cell_type": "code",
   "execution_count": 1,
   "id": "e98deecc-6b1b-4793-a656-aa3977ddf18a",
   "metadata": {},
   "outputs": [],
   "source": [
    "import ifcopenshell\n",
    "import ifcopenshell.geom"
   ]
  },
  {
   "cell_type": "code",
   "execution_count": 3,
   "id": "b1334b61-63d7-48a2-88c2-5282f408acf3",
   "metadata": {},
   "outputs": [
    {
     "ename": "ModuleNotFoundError",
     "evalue": "No module named 'OCC'",
     "output_type": "error",
     "traceback": [
      "\u001b[0;31m---------------------------------------------------------------------------\u001b[0m",
      "\u001b[0;31mModuleNotFoundError\u001b[0m                       Traceback (most recent call last)",
      "File \u001b[0;32m~/miniforge3/envs/ifcopenshell/lib/python3.10/site-packages/ifcopenshell/geom/app.py:31\u001b[0m\n\u001b[1;32m     30\u001b[0m \u001b[38;5;28;01mtry\u001b[39;00m:\n\u001b[0;32m---> 31\u001b[0m     \u001b[38;5;28;01mfrom\u001b[39;00m \u001b[38;5;21;01mOCC\u001b[39;00m\u001b[38;5;21;01m.\u001b[39;00m\u001b[38;5;21;01mCore\u001b[39;00m \u001b[38;5;28;01mimport\u001b[39;00m AIS\n\u001b[1;32m     33\u001b[0m     USE_OCCT_HANDLE \u001b[38;5;241m=\u001b[39m \u001b[38;5;28;01mFalse\u001b[39;00m\n",
      "\u001b[0;31mModuleNotFoundError\u001b[0m: No module named 'OCC'",
      "\nDuring handling of the above exception, another exception occurred:\n",
      "\u001b[0;31mModuleNotFoundError\u001b[0m                       Traceback (most recent call last)",
      "Cell \u001b[0;32mIn [3], line 1\u001b[0m\n\u001b[0;32m----> 1\u001b[0m \u001b[38;5;28;01mfrom\u001b[39;00m \u001b[38;5;21;01mifcopenshell\u001b[39;00m\u001b[38;5;21;01m.\u001b[39;00m\u001b[38;5;21;01mgeom\u001b[39;00m\u001b[38;5;21;01m.\u001b[39;00m\u001b[38;5;21;01mapp\u001b[39;00m \u001b[38;5;28;01mimport\u001b[39;00m application\n",
      "File \u001b[0;32m~/miniforge3/envs/ifcopenshell/lib/python3.10/site-packages/ifcopenshell/geom/app.py:35\u001b[0m\n\u001b[1;32m     33\u001b[0m     USE_OCCT_HANDLE \u001b[38;5;241m=\u001b[39m \u001b[38;5;28;01mFalse\u001b[39;00m\n\u001b[1;32m     34\u001b[0m \u001b[38;5;28;01mexcept\u001b[39;00m \u001b[38;5;167;01mImportError\u001b[39;00m:\n\u001b[0;32m---> 35\u001b[0m     \u001b[38;5;28;01mfrom\u001b[39;00m \u001b[38;5;21;01mOCC\u001b[39;00m \u001b[38;5;28;01mimport\u001b[39;00m AIS\n\u001b[1;32m     37\u001b[0m     USE_OCCT_HANDLE \u001b[38;5;241m=\u001b[39m \u001b[38;5;28;01mTrue\u001b[39;00m\n\u001b[1;32m     39\u001b[0m \u001b[38;5;28;01mfrom\u001b[39;00m \u001b[38;5;21;01mcollections\u001b[39;00m \u001b[38;5;28;01mimport\u001b[39;00m defaultdict, OrderedDict\n",
      "\u001b[0;31mModuleNotFoundError\u001b[0m: No module named 'OCC'"
     ]
    }
   ],
   "source": [
    "from ifcopenshell.geom.app import application"
   ]
  },
  {
   "cell_type": "code",
   "execution_count": 1,
   "id": "cf403b2a-77c0-4067-904d-26debf87b35a",
   "metadata": {},
   "outputs": [],
   "source": [
    "import ifcopenshell\n",
    "import os"
   ]
  },
  {
   "cell_type": "code",
   "execution_count": 2,
   "id": "7cea83c9-d12c-413e-86da-272129444adc",
   "metadata": {
    "tags": []
   },
   "outputs": [
    {
     "data": {
      "text/plain": [
       "'/home/arun/Documents/git/ifcopenshell/notebook'"
      ]
     },
     "execution_count": 2,
     "metadata": {},
     "output_type": "execute_result"
    }
   ],
   "source": [
    "os.getcwd()"
   ]
  },
  {
   "cell_type": "code",
   "execution_count": 3,
   "id": "ad022e3a-3a28-4f1a-823c-093b88826c3d",
   "metadata": {},
   "outputs": [],
   "source": [
    "path = '../ifc/'"
   ]
  },
  {
   "cell_type": "markdown",
   "id": "a44c88a0-c5d5-44e9-b58c-789626ef6db7",
   "metadata": {},
   "source": [
    "## Import model"
   ]
  },
  {
   "cell_type": "code",
   "execution_count": 4,
   "id": "a4458774-1502-41ba-b9e6-567606fcfe74",
   "metadata": {},
   "outputs": [],
   "source": [
    "model = ifcopenshell.open(os.path.join(path,'MAD_SCIENTIST_21.ifc'))"
   ]
  },
  {
   "cell_type": "markdown",
   "id": "1368a724-d494-4b67-89b7-69a2754fd825",
   "metadata": {
    "tags": []
   },
   "source": [
    "## Rooted Classes\n",
    "IfcClass can be categorised to two main categories. Rooted Classes and Non-rooted classes.\n",
    "<br> <br> Rooted classes inherit from __[IfcRoot](http://ifc43-docs.standards.buildingsmart.org/IFC/RELEASE/IFC4x3/HTML/lexical/IfcRoot.htm)__. `IfcRoot` has four attributes and three subclasses. The subclasses are `IfcObjectDefinition`, `IfcPropertyDefinition` and `IfcRelationship`. You can traverse this heirarchy from `IfcObjectDefinition` > `IfcObject` > `IfcProduct` > `IfcElement` and finally to `IfcBuiltElement` to see the different built element classes like `IfcBeam`, `IfcWindow` and their attribute now shows all levels of inheritance of attributes and relationships from parent class right from `IfcRoot` all the way down to the individual element class"
   ]
  },
  {
   "cell_type": "markdown",
   "id": "bd8244de-8e61-4d1f-af7a-f92c62694c79",
   "metadata": {},
   "source": [
    "### From BlenderBim"
   ]
  },
  {
   "cell_type": "code",
   "execution_count": 5,
   "id": "c31acdd2-d5d2-4d09-b15f-238cd2ce5f37",
   "metadata": {},
   "outputs": [],
   "source": [
    "rooted_elements = model.by_type('IfcRoot')"
   ]
  },
  {
   "cell_type": "code",
   "execution_count": 6,
   "id": "597daf42-20e3-4081-86ab-a16279a3b14b",
   "metadata": {},
   "outputs": [
    {
     "data": {
      "text/plain": [
       "5489"
      ]
     },
     "execution_count": 6,
     "metadata": {},
     "output_type": "execute_result"
    }
   ],
   "source": [
    "len(rooted_elements)"
   ]
  },
  {
   "cell_type": "code",
   "execution_count": 7,
   "id": "24535558-54f6-49b1-8935-02450825e51f",
   "metadata": {},
   "outputs": [],
   "source": [
    "building_element_entity = set()\n",
    "for element in rooted_elements:\n",
    "    if element.is_a('IfcBuildingElement'):\n",
    "        building_element_entity.add(element.is_a())"
   ]
  },
  {
   "cell_type": "code",
   "execution_count": 13,
   "id": "25e6524a-2a6e-41aa-82fe-7d369c6c0929",
   "metadata": {},
   "outputs": [],
   "source": [
    "# for list comprehension # building_element_entity = set([element.is_a() for element in rooted_elements if element.is_a('IfcBuildingElement')])"
   ]
  },
  {
   "cell_type": "code",
   "execution_count": 8,
   "id": "ccace56e-97fe-4831-89a1-30d70910b58b",
   "metadata": {},
   "outputs": [
    {
     "name": "stdout",
     "output_type": "stream",
     "text": [
      "IfcRailing\n",
      "IfcWindow\n",
      "IfcColumn\n",
      "IfcDoor\n",
      "IfcMember\n",
      "IfcBuildingElementProxy\n",
      "IfcBeam\n",
      "IfcStair\n",
      "IfcSlab\n",
      "IfcWall\n",
      "IfcStairFlight\n"
     ]
    }
   ],
   "source": [
    "for entity in building_element_entity:\n",
    "    print(entity)"
   ]
  },
  {
   "cell_type": "markdown",
   "id": "5eb025ab-8cc7-4791-81d3-b2a0edfb4a14",
   "metadata": {
    "tags": []
   },
   "source": [
    "#### temp"
   ]
  },
  {
   "cell_type": "raw",
   "id": "3a4e0646-5791-466a-b8de-183aa7305698",
   "metadata": {},
   "source": [
    ".is_a method"
   ]
  },
  {
   "cell_type": "raw",
   "id": "19aaac40-2e28-4d99-9e57-353d454ecbbe",
   "metadata": {},
   "source": [
    ".get_info method\n"
   ]
  },
  {
   "cell_type": "code",
   "execution_count": 9,
   "id": "6a20891c-0323-43cc-a4f1-92d2548b27be",
   "metadata": {},
   "outputs": [],
   "source": [
    "w = model.by_type('ifcwall')"
   ]
  },
  {
   "cell_type": "code",
   "execution_count": 11,
   "id": "9c11a531-a239-44b2-b569-f6833b25f19f",
   "metadata": {},
   "outputs": [
    {
     "data": {
      "text/plain": [
       "{'id': 561,\n",
       " 'type': 'IfcWall',\n",
       " 'GlobalId': '0WVj9KjC13RO1aj0KqPpHQ',\n",
       " 'OwnerHistory': None,\n",
       " 'Name': 'BLK01.063',\n",
       " 'Description': None,\n",
       " 'ObjectType': 'Basic Wall:250XTERNAL',\n",
       " 'ObjectPlacement': #502=IfcLocalPlacement(#154,#501),\n",
       " 'Representation': #557=IfcProductDefinitionShape($,$,(#508,#555)),\n",
       " 'Tag': '290574',\n",
       " 'PredefinedType': 'SOLIDWALL'}"
      ]
     },
     "execution_count": 11,
     "metadata": {},
     "output_type": "execute_result"
    }
   ],
   "source": [
    "w[0].get_info()"
   ]
  },
  {
   "cell_type": "code",
   "execution_count": 14,
   "id": "12da399f-b163-497d-8371-8118ebabb324",
   "metadata": {},
   "outputs": [
    {
     "data": {
      "text/plain": [
       "ifcopenshell.entity_instance.entity_instance"
      ]
     },
     "execution_count": 14,
     "metadata": {},
     "output_type": "execute_result"
    }
   ],
   "source": [
    "type(w[0])"
   ]
  },
  {
   "cell_type": "code",
   "execution_count": 13,
   "id": "0efa1988-e96e-4ee8-8dea-e82ba09c4bf5",
   "metadata": {},
   "outputs": [
    {
     "data": {
      "text/plain": [
       "'BLK01.063'"
      ]
     },
     "execution_count": 13,
     "metadata": {},
     "output_type": "execute_result"
    }
   ],
   "source": [
    "w[0].Name"
   ]
  },
  {
   "cell_type": "code",
   "execution_count": 15,
   "id": "415078a2-becd-47ac-9117-df95bdc1abea",
   "metadata": {},
   "outputs": [
    {
     "data": {
      "text/plain": [
       "dict"
      ]
     },
     "execution_count": 15,
     "metadata": {},
     "output_type": "execute_result"
    }
   ],
   "source": [
    "type(w[0].get_info())"
   ]
  },
  {
   "cell_type": "code",
   "execution_count": 16,
   "id": "299ea183-308a-4455-b5b0-feaea1dae66a",
   "metadata": {},
   "outputs": [
    {
     "data": {
      "text/plain": [
       "'BLK01.063'"
      ]
     },
     "execution_count": 16,
     "metadata": {},
     "output_type": "execute_result"
    }
   ],
   "source": [
    "w[0].get_info()['Name']"
   ]
  },
  {
   "cell_type": "code",
   "execution_count": 17,
   "id": "9a676fbe-5608-463f-83f1-3fa91ef436eb",
   "metadata": {},
   "outputs": [],
   "source": [
    "from ifcopenshell.util import element"
   ]
  },
  {
   "cell_type": "code",
   "execution_count": 19,
   "id": "48c3d5b0-a15a-4e60-939f-0576b787029c",
   "metadata": {},
   "outputs": [
    {
     "data": {
      "text/plain": [
       "{'Pset_EnvironmentalImpactIndicators': {'Reference': '250XTERNAL', 'id': 791},\n",
       " 'Pset_ReinforcementBarPitchOfWall': {'Reference': '250XTERNAL', 'id': 794},\n",
       " 'Pset_WallCommon': {'Reference': '250XTERNAL',\n",
       "  'IsExternal': True,\n",
       "  'id': 800,\n",
       "  'LoadBearing': False,\n",
       "  'ExtendToStructure': True},\n",
       " 'Qto_WallBaseQuantities': {'Height': 3360.0,\n",
       "  'Length': 3842.12759802427,\n",
       "  'Width': 250.0,\n",
       "  'GrossFootprintArea': 0.960531899506066,\n",
       "  'NetVolume': 3.22738718234038,\n",
       "  'NetSideArea': 29.4201612577353,\n",
       "  'id': 586}}"
      ]
     },
     "execution_count": 19,
     "metadata": {},
     "output_type": "execute_result"
    }
   ],
   "source": [
    "element.get_psets(w[0])"
   ]
  },
  {
   "cell_type": "code",
   "execution_count": 21,
   "id": "2cd77498-0640-465f-adaa-d247a9a545ec",
   "metadata": {},
   "outputs": [
    {
     "data": {
      "text/plain": [
       "\u001b[0;31mSignature:\u001b[0m \u001b[0melement\u001b[0m\u001b[0;34m.\u001b[0m\u001b[0mget_type\u001b[0m\u001b[0;34m(\u001b[0m\u001b[0melement\u001b[0m\u001b[0;34m)\u001b[0m\u001b[0;34m\u001b[0m\u001b[0;34m\u001b[0m\u001b[0m\n",
       "\u001b[0;31mDocstring:\u001b[0m <no docstring>\n",
       "\u001b[0;31mFile:\u001b[0m      ~/miniforge3/envs/ifcopenshell/lib/python3.10/site-packages/ifcopenshell/util/element.py\n",
       "\u001b[0;31mType:\u001b[0m      function\n"
      ]
     },
     "metadata": {},
     "output_type": "display_data"
    }
   ],
   "source": [
    "element.get_type?"
   ]
  },
  {
   "cell_type": "code",
   "execution_count": 22,
   "id": "cec07d9d-3fb3-4e47-a11c-52eea4a256d7",
   "metadata": {},
   "outputs": [],
   "source": [
    "walltype = element.get_type(w[0])"
   ]
  },
  {
   "cell_type": "code",
   "execution_count": 23,
   "id": "d5bf0d0e-7bf2-4e90-9fff-186878da23b1",
   "metadata": {},
   "outputs": [
    {
     "data": {
      "text/plain": [
       "'Basic Wall:250XTERNAL'"
      ]
     },
     "execution_count": 23,
     "metadata": {},
     "output_type": "execute_result"
    }
   ],
   "source": [
    "walltype.Name"
   ]
  },
  {
   "cell_type": "code",
   "execution_count": 24,
   "id": "2cc96eed-2515-4d7d-b508-7a814246d871",
   "metadata": {},
   "outputs": [],
   "source": [
    "import pandas as pd"
   ]
  },
  {
   "cell_type": "code",
   "execution_count": 25,
   "id": "4e7dc05b-0a62-438a-8147-16db791760a2",
   "metadata": {},
   "outputs": [],
   "source": [
    "dic = {'col1': [1,2,3], 'col2':[3,4,5]}"
   ]
  },
  {
   "cell_type": "code",
   "execution_count": 28,
   "id": "15f3fc7d-5c41-4674-8291-bd897c1cf17e",
   "metadata": {},
   "outputs": [],
   "source": [
    "df = pd.DataFrame(dic)"
   ]
  },
  {
   "cell_type": "code",
   "execution_count": 29,
   "id": "455b3160-ed33-42fa-83fe-17cd5c6ec0d6",
   "metadata": {},
   "outputs": [
    {
     "data": {
      "text/html": [
       "<div>\n",
       "<style scoped>\n",
       "    .dataframe tbody tr th:only-of-type {\n",
       "        vertical-align: middle;\n",
       "    }\n",
       "\n",
       "    .dataframe tbody tr th {\n",
       "        vertical-align: top;\n",
       "    }\n",
       "\n",
       "    .dataframe thead th {\n",
       "        text-align: right;\n",
       "    }\n",
       "</style>\n",
       "<table border=\"1\" class=\"dataframe\">\n",
       "  <thead>\n",
       "    <tr style=\"text-align: right;\">\n",
       "      <th></th>\n",
       "      <th>col1</th>\n",
       "      <th>col2</th>\n",
       "    </tr>\n",
       "  </thead>\n",
       "  <tbody>\n",
       "    <tr>\n",
       "      <th>0</th>\n",
       "      <td>1</td>\n",
       "      <td>3</td>\n",
       "    </tr>\n",
       "    <tr>\n",
       "      <th>1</th>\n",
       "      <td>2</td>\n",
       "      <td>4</td>\n",
       "    </tr>\n",
       "    <tr>\n",
       "      <th>2</th>\n",
       "      <td>3</td>\n",
       "      <td>5</td>\n",
       "    </tr>\n",
       "  </tbody>\n",
       "</table>\n",
       "</div>"
      ],
      "text/plain": [
       "   col1  col2\n",
       "0     1     3\n",
       "1     2     4\n",
       "2     3     5"
      ]
     },
     "execution_count": 29,
     "metadata": {},
     "output_type": "execute_result"
    }
   ],
   "source": [
    "df"
   ]
  },
  {
   "cell_type": "code",
   "execution_count": null,
   "id": "6828f00b-d008-4dca-80c6-679323844c39",
   "metadata": {},
   "outputs": [],
   "source": []
  }
 ],
 "metadata": {
  "kernelspec": {
   "display_name": "Python 3 (ipykernel)",
   "language": "python",
   "name": "python3"
  },
  "language_info": {
   "codemirror_mode": {
    "name": "ipython",
    "version": 3
   },
   "file_extension": ".py",
   "mimetype": "text/x-python",
   "name": "python",
   "nbconvert_exporter": "python",
   "pygments_lexer": "ipython3",
   "version": "3.10.6"
  }
 },
 "nbformat": 4,
 "nbformat_minor": 5
}
