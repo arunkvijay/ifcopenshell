{
 "cells": [
  {
   "cell_type": "markdown",
   "id": "2ebf1937-a2cc-43cf-a07c-d5dbe5bae778",
   "metadata": {},
   "source": [
    "# IfcOpenShell Jupyternotebook"
   ]
  },
  {
   "cell_type": "code",
   "execution_count": 2,
   "id": "cf403b2a-77c0-4067-904d-26debf87b35a",
   "metadata": {},
   "outputs": [],
   "source": [
    "import ifcopenshell\n",
    "import os"
   ]
  },
  {
   "cell_type": "code",
   "execution_count": 6,
   "id": "7cea83c9-d12c-413e-86da-272129444adc",
   "metadata": {
    "tags": []
   },
   "outputs": [
    {
     "data": {
      "text/plain": [
       "'/home/arun/Documents/git/ifcopenshell'"
      ]
     },
     "execution_count": 6,
     "metadata": {},
     "output_type": "execute_result"
    }
   ],
   "source": [
    "os.getcwd()"
   ]
  },
  {
   "cell_type": "code",
   "execution_count": 5,
   "id": "ad022e3a-3a28-4f1a-823c-093b88826c3d",
   "metadata": {},
   "outputs": [],
   "source": [
    "path = './ifc/'"
   ]
  },
  {
   "cell_type": "markdown",
   "id": "a44c88a0-c5d5-44e9-b58c-789626ef6db7",
   "metadata": {},
   "source": [
    "## Import model"
   ]
  },
  {
   "cell_type": "code",
   "execution_count": 8,
   "id": "a4458774-1502-41ba-b9e6-567606fcfe74",
   "metadata": {},
   "outputs": [],
   "source": [
    "model = ifcopenshell.open(os.path.join(path,'MAD_SCIENTIST_21.ifc'))"
   ]
  },
  {
   "cell_type": "code",
   "execution_count": 9,
   "id": "1bb1287e-0e02-474d-8063-6af2dccfea57",
   "metadata": {},
   "outputs": [
    {
     "data": {
      "text/plain": [
       "<ifcopenshell.file.file at 0x7eff97986b00>"
      ]
     },
     "execution_count": 9,
     "metadata": {},
     "output_type": "execute_result"
    }
   ],
   "source": [
    "model"
   ]
  },
  {
   "cell_type": "code",
   "execution_count": 11,
   "id": "c31acdd2-d5d2-4d09-b15f-238cd2ce5f37",
   "metadata": {},
   "outputs": [],
   "source": [
    "rooted_elements = model.by_type('IfcRoot')"
   ]
  },
  {
   "cell_type": "raw",
   "id": "89022794-205d-41b9-96e8-32d5d1630bfa",
   "metadata": {},
   "source": [
    "'IfcRoot' is the root base class"
   ]
  },
  {
   "cell_type": "code",
   "execution_count": 12,
   "id": "597daf42-20e3-4081-86ab-a16279a3b14b",
   "metadata": {},
   "outputs": [
    {
     "data": {
      "text/plain": [
       "5489"
      ]
     },
     "execution_count": 12,
     "metadata": {},
     "output_type": "execute_result"
    }
   ],
   "source": [
    "len(rooted_elements)"
   ]
  },
  {
   "cell_type": "code",
   "execution_count": 18,
   "id": "25e6524a-2a6e-41aa-82fe-7d369c6c0929",
   "metadata": {},
   "outputs": [
    {
     "data": {
      "text/plain": [
       "{'IfcBeam',\n",
       " 'IfcBuildingElementProxy',\n",
       " 'IfcColumn',\n",
       " 'IfcDoor',\n",
       " 'IfcMember',\n",
       " 'IfcRailing',\n",
       " 'IfcSlab',\n",
       " 'IfcStair',\n",
       " 'IfcStairFlight',\n",
       " 'IfcWall',\n",
       " 'IfcWindow'}"
      ]
     },
     "execution_count": 18,
     "metadata": {},
     "output_type": "execute_result"
    }
   ],
   "source": [
    "set([element.is_a() for element in rooted_elements if element.is_a('IfcBuildingElement')])"
   ]
  },
  {
   "cell_type": "raw",
   "id": "3a4e0646-5791-466a-b8de-183aa7305698",
   "metadata": {},
   "source": [
    ".is_a method"
   ]
  }
 ],
 "metadata": {
  "kernelspec": {
   "display_name": "Python 3 (ipykernel)",
   "language": "python",
   "name": "python3"
  },
  "language_info": {
   "codemirror_mode": {
    "name": "ipython",
    "version": 3
   },
   "file_extension": ".py",
   "mimetype": "text/x-python",
   "name": "python",
   "nbconvert_exporter": "python",
   "pygments_lexer": "ipython3",
   "version": "3.10.6"
  }
 },
 "nbformat": 4,
 "nbformat_minor": 5
}
